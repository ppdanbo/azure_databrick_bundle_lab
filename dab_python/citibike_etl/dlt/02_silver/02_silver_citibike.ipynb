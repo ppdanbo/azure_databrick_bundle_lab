{
 "cells": [
  {
   "cell_type": "code",
   "execution_count": null,
   "metadata": {},
   "outputs": [],
   "source": [
    "import dlt\n",
    "from pyspark.sql.functions import col, unix_timestamp, to_date"
   ]
  },
  {
   "cell_type": "code",
   "execution_count": null,
   "metadata": {},
   "outputs": [],
   "source": [
    "@dlt.table(\n",
    "    comment=\"Silver layer: cleaned and enriched Citi Bike data\"\n",
    ")\n",
    "def silver_jc_citibike():\n",
    "    # Read the Bronze DLT table\n",
    "    df_bronze = dlt.read(\"bronze_jc_citibike\")\n",
    "\n",
    "    # Compute duration, extract date, then select the final columns\n",
    "    df_silver = (\n",
    "        df_bronze\n",
    "        .withColumn(\n",
    "            \"trip_duration_mins\",\n",
    "            (unix_timestamp(col(\"ended_at\")) - unix_timestamp(col(\"started_at\"))) / 60\n",
    "        )\n",
    "        .withColumn(\n",
    "            \"trip_start_date\",\n",
    "            to_date(col(\"started_at\"))\n",
    "        )\n",
    "        .select(\n",
    "            \"ride_id\",\n",
    "            \"trip_start_date\",\n",
    "            \"started_at\",\n",
    "            \"ended_at\",\n",
    "            \"start_station_name\",\n",
    "            \"end_station_name\",\n",
    "            \"trip_duration_mins\"\n",
    "        )\n",
    "    )\n",
    "\n",
    "    return df_silver"
   ]
  }
 ],
 "metadata": {
  "kernelspec": {
   "display_name": ".venv",
   "language": "python",
   "name": "python3"
  },
  "language_info": {
   "codemirror_mode": {
    "name": "ipython",
    "version": 3
   },
   "file_extension": ".py",
   "mimetype": "text/x-python",
   "name": "python",
   "nbconvert_exporter": "python",
   "pygments_lexer": "ipython3",
   "version": "3.11.9"
  }
 },
 "nbformat": 4,
 "nbformat_minor": 2
}
