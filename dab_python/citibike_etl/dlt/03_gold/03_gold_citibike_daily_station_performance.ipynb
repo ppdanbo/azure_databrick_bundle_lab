{
 "cells": [
  {
   "cell_type": "code",
   "execution_count": null,
   "id": "02f7b617",
   "metadata": {},
   "outputs": [],
   "source": [
    "import dlt\n",
    "from pyspark.sql.functions import avg, count, round"
   ]
  },
  {
   "cell_type": "code",
   "execution_count": null,
   "id": "85f8ee35",
   "metadata": {},
   "outputs": [],
   "source": [
    "@dlt.table(\n",
    "    comment=\"Gold layer: daily ride performance metrics per station, including average duration and total trips\"\n",
    ")\n",
    "def gold_daily_station_performance():\n",
    "    df = (\n",
    "        dlt.read(\"silver_jc_citibike\").\\\n",
    "                    groupBy(\"trip_start_date\", \"start_station_name\").\\\n",
    "                    agg(\n",
    "                    round(avg(\"trip_duration_mins\"),2).alias(\"avg_trip_duration_mins\"),\n",
    "                    count(\"ride_id\").alias(\"total_trips\")\n",
    "        ))\n",
    "    return df"
   ]
  }
 ],
 "metadata": {
  "kernelspec": {
   "display_name": ".venv",
   "language": "python",
   "name": "python3"
  },
  "language_info": {
   "codemirror_mode": {
    "name": "ipython",
    "version": 3
   },
   "file_extension": ".py",
   "mimetype": "text/x-python",
   "name": "python",
   "nbconvert_exporter": "python",
   "pygments_lexer": "ipython3",
   "version": "3.11.9"
  }
 },
 "nbformat": 4,
 "nbformat_minor": 5
}
