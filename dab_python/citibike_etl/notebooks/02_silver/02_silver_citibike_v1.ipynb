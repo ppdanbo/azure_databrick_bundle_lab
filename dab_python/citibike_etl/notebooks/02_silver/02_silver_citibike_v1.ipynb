{
 "cells": [
  {
   "cell_type": "code",
   "execution_count": 1,
   "metadata": {},
   "outputs": [],
   "source": [
    "# after the wheel added to the resource job config , we don't need to source in the code any more\n",
    "\n",
    "# import os\n",
    "# import sys\n",
    "# current_dir = os.getcwd()\n",
    "# project_root = os.path.abspath(os.path.join(current_dir, \"..\", \"..\", \"..\"))"
   ]
  },
  {
   "cell_type": "code",
   "execution_count": 2,
   "metadata": {},
   "outputs": [],
   "source": [
    "# # project_root = os.path.abspath(os.path.join(current_dir, \"..\"))\n",
    "# sys.path.append(project_root)\n",
    "# sys.path"
   ]
  },
  {
   "cell_type": "code",
   "execution_count": null,
   "metadata": {},
   "outputs": [],
   "source": [
    "from citibike.citibike_utils import get_trip_duration_mins\n",
    "from utils.datetime_utils import timestamp_to_date_col\n",
    "from pyspark.sql.functions import create_map, lit\n"
   ]
  },
  {
   "cell_type": "code",
   "execution_count": null,
   "metadata": {},
   "outputs": [],
   "source": [
    "pipeline_id = dbutils.widgets.get(\"pipeline_id\")\n",
    "run_id = dbutils.widgets.get(\"run_id\")\n",
    "task_id = dbutils.widgets.get(\"task_id\")\n",
    "processed_timestamp = dbutils.widgets.get(\"processed_timestamp\")\n",
    "# catalog = dbutils.widgets.get(\"catalog\")"
   ]
  },
  {
   "cell_type": "code",
   "execution_count": 4,
   "metadata": {},
   "outputs": [],
   "source": [
    "catalog = 'citibike_dev'"
   ]
  },
  {
   "cell_type": "code",
   "execution_count": 5,
   "metadata": {},
   "outputs": [],
   "source": [
    "df = spark.read.table(f\"{catalog}.01_bronze.jc_citibike\")"
   ]
  },
  {
   "cell_type": "code",
   "execution_count": 6,
   "metadata": {},
   "outputs": [],
   "source": [
    "df = get_trip_duration_mins(spark, df, \"started_at\", \"ended_at\", \"trip_duration_mins\")"
   ]
  },
  {
   "cell_type": "code",
   "execution_count": 7,
   "metadata": {},
   "outputs": [],
   "source": [
    "df = timestamp_to_date_col(spark, df, \"started_at\", \"trip_start_date\")"
   ]
  },
  {
   "cell_type": "code",
   "execution_count": null,
   "metadata": {},
   "outputs": [
    {
     "data": {
      "text/plain": [
       "{'ride_id': '29DAF43DD84B4B7A',\n",
       " 'rideable_type': 'electric_bike',\n",
       " 'started_at': datetime.datetime(2025, 3, 20, 14, 58, 31, 217000),\n",
       " 'ended_at': datetime.datetime(2025, 3, 20, 15, 0, 46, 466000),\n",
       " 'start_station_name': '6 St & Grand St',\n",
       " 'start_station_id': 'HB302',\n",
       " 'end_station_name': 'Mama Johnson Field - 4 St & Jackson St',\n",
       " 'end_station_id': 'HB404',\n",
       " 'start_lat': Decimal('41'),\n",
       " 'start_lng': Decimal('-74'),\n",
       " 'end_lat': Decimal('41'),\n",
       " 'end_lng': Decimal('-74'),\n",
       " 'member_casual': 'member',\n",
       " 'metadata': {'pipeline_id': 'placeholder',\n",
       "  'run_id': 'placeholder',\n",
       "  'task_id': 'placeholder',\n",
       "  'processed_timestamp': 'placeholder'},\n",
       " 'trip_duration_mins': 2.25,\n",
       " 'trip_start_date': datetime.date(2025, 3, 20)}"
      ]
     },
     "execution_count": 8,
     "metadata": {},
     "output_type": "execute_result"
    }
   ],
   "source": [
    "# df.first().asDict()"
   ]
  },
  {
   "cell_type": "code",
   "execution_count": null,
   "metadata": {},
   "outputs": [],
   "source": [
    "# df = df.withColumn(\"metadata\", \n",
    "#               create_map(\n",
    "#                   lit(\"pipeline_id\"), lit(\"placeholder\"),\n",
    "#                   lit(\"run_id\"), lit(\"placeholder\"),\n",
    "#                   lit(\"task_id\"), lit(\"placeholder\"),\n",
    "#                   lit(\"processed_timestamp\"), lit(\"placeholder\")\n",
    "#                   ))\n",
    "\n",
    "df = df.withColumn(\"metadata\", \n",
    "              create_map(\n",
    "                  lit(\"pipeline_id\"), lit(pipeline_id),\n",
    "                  lit(\"run_id\"), lit(run_id),\n",
    "                  lit(\"task_id\"), lit(task_id),\n",
    "                  lit(\"processed_timestamp\"), lit(processed_timestamp)\n",
    "                  ))"
   ]
  },
  {
   "cell_type": "code",
   "execution_count": 10,
   "metadata": {},
   "outputs": [],
   "source": [
    "df = df.select(\n",
    "    \"ride_id\",\n",
    "    \"trip_start_date\",\n",
    "    \"started_at\",\n",
    "    \"ended_at\",\n",
    "    \"start_station_name\",\n",
    "    \"end_station_name\",\n",
    "    \"trip_duration_mins\",\n",
    "    \"metadata\"\n",
    "    )"
   ]
  },
  {
   "cell_type": "code",
   "execution_count": null,
   "metadata": {},
   "outputs": [
    {
     "data": {
      "text/plain": [
       "{'ride_id': '29DAF43DD84B4B7A',\n",
       " 'trip_start_date': datetime.date(2025, 3, 20),\n",
       " 'started_at': datetime.datetime(2025, 3, 20, 14, 58, 31, 217000),\n",
       " 'ended_at': datetime.datetime(2025, 3, 20, 15, 0, 46, 466000),\n",
       " 'start_station_name': '6 St & Grand St',\n",
       " 'end_station_name': 'Mama Johnson Field - 4 St & Jackson St',\n",
       " 'trip_duration_mins': 2.25,\n",
       " 'metadata': {'pipeline_id': 'placeholder',\n",
       "  'run_id': 'placeholder',\n",
       "  'task_id': 'placeholder',\n",
       "  'processed_timestamp': 'placeholder'}}"
      ]
     },
     "execution_count": 11,
     "metadata": {},
     "output_type": "execute_result"
    }
   ],
   "source": [
    "# df.first().asDict()"
   ]
  },
  {
   "cell_type": "code",
   "execution_count": 12,
   "metadata": {},
   "outputs": [],
   "source": [
    "df.write.\\\n",
    "    mode(\"overwrite\").\\\n",
    "    option(\"overwriteSchema\", \"true\").\\\n",
    "    saveAsTable(f\"{catalog}.02_silver.jc_citibike\")"
   ]
  }
 ],
 "metadata": {
  "kernelspec": {
   "display_name": ".venv_dbc",
   "language": "python",
   "name": "python3"
  },
  "language_info": {
   "codemirror_mode": {
    "name": "ipython",
    "version": 3
   },
   "file_extension": ".py",
   "mimetype": "text/x-python",
   "name": "python",
   "nbconvert_exporter": "python",
   "pygments_lexer": "ipython3",
   "version": "3.11.9"
  }
 },
 "nbformat": 4,
 "nbformat_minor": 2
}
