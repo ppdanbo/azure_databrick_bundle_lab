{
 "cells": [
  {
   "cell_type": "code",
   "execution_count": 1,
   "id": "8099c3fc",
   "metadata": {},
   "outputs": [],
   "source": [
    "from pyspark.sql.functions import max, min, avg, count, round"
   ]
  },
  {
   "cell_type": "code",
   "execution_count": 5,
   "id": "53952057",
   "metadata": {},
   "outputs": [],
   "source": [
    "catalog = 'citibike_dev'"
   ]
  },
  {
   "cell_type": "code",
   "execution_count": 6,
   "id": "71569c41",
   "metadata": {},
   "outputs": [],
   "source": [
    "# catalog = dbutils.widgets.get(\"catalog\")"
   ]
  },
  {
   "cell_type": "code",
   "execution_count": 7,
   "id": "8c75b910",
   "metadata": {},
   "outputs": [],
   "source": [
    "\n",
    "df = spark.read.table(f\"{catalog}.02_silver.jc_citibike\")"
   ]
  },
  {
   "cell_type": "code",
   "execution_count": 8,
   "id": "7812c407",
   "metadata": {},
   "outputs": [
    {
     "data": {
      "application/vnd.jupyter.widget-view+json": {
       "model_id": "64dca6e1c1244421a2b2110629b68590",
       "version_major": 2,
       "version_minor": 0
      },
      "text/plain": [
       "HBox(children=(IntProgress(value=0, bar_style='success'), Label(value='')))"
      ]
     },
     "metadata": {},
     "output_type": "display_data"
    },
    {
     "data": {
      "text/plain": [
       "Row(ride_id='29DAF43DD84B4B7A', trip_start_date=datetime.date(2025, 3, 20), started_at=datetime.datetime(2025, 3, 20, 14, 58, 31, 217000), ended_at=datetime.datetime(2025, 3, 20, 15, 0, 46, 466000), start_station_name='6 St & Grand St', end_station_name='Mama Johnson Field - 4 St & Jackson St', trip_duration_mins=2.25, metadata={'pipeline_id': 'placeholder', 'run_id': 'placeholder', 'task_id': 'placeholder', 'processed_timestamp': 'placeholder'})"
      ]
     },
     "execution_count": 8,
     "metadata": {},
     "output_type": "execute_result"
    }
   ],
   "source": [
    "df.first()"
   ]
  },
  {
   "cell_type": "code",
   "execution_count": 9,
   "id": "a2dddf0c",
   "metadata": {},
   "outputs": [],
   "source": [
    "\n",
    "df = df.groupBy(\"trip_start_date\").agg(\n",
    "    round(max(\"trip_duration_mins\"),2).alias(\"max_trip_duration_mins\"),\n",
    "    round(min(\"trip_duration_mins\"),2).alias(\"min_trip_duration_mins\"),\n",
    "    round(avg(\"trip_duration_mins\"),2).alias(\"avg_trip_duration_mins\"),\n",
    "    count(\"ride_id\").alias(\"total_trips\")\n",
    ")"
   ]
  },
  {
   "cell_type": "code",
   "execution_count": 10,
   "id": "ea9c10c0",
   "metadata": {},
   "outputs": [
    {
     "data": {
      "application/vnd.jupyter.widget-view+json": {
       "model_id": "f9369c27dcd54060b3538c9e6ade4214",
       "version_major": 2,
       "version_minor": 0
      },
      "text/plain": [
       "HBox(children=(IntProgress(value=0, bar_style='success'), Label(value='')))"
      ]
     },
     "metadata": {},
     "output_type": "display_data"
    },
    {
     "name": "stdout",
     "output_type": "stream",
     "text": [
      "+---------------+----------------------+----------------------+----------------------+-----------+\n",
      "|trip_start_date|max_trip_duration_mins|min_trip_duration_mins|avg_trip_duration_mins|total_trips|\n",
      "+---------------+----------------------+----------------------+----------------------+-----------+\n",
      "|     2025-03-23|                559.77|                  1.03|                 10.17|       1875|\n",
      "|     2025-03-16|                202.63|                  1.07|                  9.43|       1928|\n",
      "|     2025-03-03|                 138.7|                  1.02|                  6.53|       2030|\n",
      "|     2025-03-08|                  91.6|                  1.02|                  7.35|       2008|\n",
      "|     2025-02-28|                 25.25|                   2.8|                  11.4|          4|\n",
      "|     2025-03-12|                951.33|                  1.02|                  7.46|       2687|\n",
      "|     2025-03-07|               1499.93|                  1.03|                  8.21|       2338|\n",
      "|     2025-03-13|                 884.5|                  1.02|                  6.99|       2732|\n",
      "|     2025-03-19|               1499.93|                  1.03|                  8.81|       2908|\n",
      "|     2025-03-31|                 432.2|                  1.02|                   8.2|       2389|\n",
      "|     2025-03-10|               1072.12|                  1.03|                  9.13|       2745|\n",
      "|     2025-03-14|                255.85|                  1.02|                   8.2|       2726|\n",
      "|     2025-03-30|                458.37|                  1.02|                  9.15|       2010|\n",
      "|     2025-03-04|               1499.92|                  1.07|                  7.51|       2410|\n",
      "|     2025-03-01|               1499.65|                  1.02|                 10.14|       2160|\n",
      "|     2025-03-06|               1499.87|                  1.02|                  7.42|       2357|\n",
      "|     2025-03-21|                1256.8|                  1.02|                  9.92|       2429|\n",
      "|     2025-03-28|                250.18|                  1.02|                  7.53|       2844|\n",
      "|     2025-03-18|                143.33|                  1.02|                  7.16|       2809|\n",
      "|     2025-03-27|               1499.75|                  1.02|                   7.7|       2868|\n",
      "+---------------+----------------------+----------------------+----------------------+-----------+\n",
      "only showing top 20 rows\n",
      "\n"
     ]
    }
   ],
   "source": [
    "df.show()"
   ]
  },
  {
   "cell_type": "code",
   "execution_count": 11,
   "id": "27983cef",
   "metadata": {},
   "outputs": [
    {
     "data": {
      "application/vnd.jupyter.widget-view+json": {
       "model_id": "d59397a884384c9d80de8c69f68e6b10",
       "version_major": 2,
       "version_minor": 0
      },
      "text/plain": [
       "HBox(children=(IntProgress(value=0, bar_style='success'), Label(value='')))"
      ]
     },
     "metadata": {},
     "output_type": "display_data"
    }
   ],
   "source": [
    "df.write.\\\n",
    "    mode(\"overwrite\").\\\n",
    "    option(\"overwriteSchema\", \"true\").\\\n",
    "    saveAsTable(f\"{catalog}.03_gold.daily_ride_summary\")"
   ]
  },
  {
   "cell_type": "code",
   "execution_count": null,
   "id": "5d68f696",
   "metadata": {},
   "outputs": [],
   "source": []
  }
 ],
 "metadata": {
  "kernelspec": {
   "display_name": ".venv_dbc",
   "language": "python",
   "name": "python3"
  },
  "language_info": {
   "codemirror_mode": {
    "name": "ipython",
    "version": 3
   },
   "file_extension": ".py",
   "mimetype": "text/x-python",
   "name": "python",
   "nbconvert_exporter": "python",
   "pygments_lexer": "ipython3",
   "version": "3.11.9"
  }
 },
 "nbformat": 4,
 "nbformat_minor": 5
}
