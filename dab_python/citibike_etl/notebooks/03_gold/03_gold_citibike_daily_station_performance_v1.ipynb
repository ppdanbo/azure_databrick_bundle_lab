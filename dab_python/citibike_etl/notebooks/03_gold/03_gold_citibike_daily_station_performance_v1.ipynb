{
 "cells": [
  {
   "cell_type": "code",
   "execution_count": 1,
   "id": "02f7b617",
   "metadata": {},
   "outputs": [],
   "source": [
    "from pyspark.sql.functions import avg, count, round"
   ]
  },
  {
   "cell_type": "code",
   "execution_count": 2,
   "id": "69cd95da",
   "metadata": {},
   "outputs": [],
   "source": [
    "# catalog = dbutils.widgets.get(\"catalog\")"
   ]
  },
  {
   "cell_type": "code",
   "execution_count": 3,
   "id": "17985d81",
   "metadata": {},
   "outputs": [],
   "source": [
    "catalog = \"citibike_dev\""
   ]
  },
  {
   "cell_type": "code",
   "execution_count": 4,
   "id": "f24fd298",
   "metadata": {},
   "outputs": [],
   "source": [
    "df = spark.read.table(f\"{catalog}.02_silver.jc_citibike\")"
   ]
  },
  {
   "cell_type": "code",
   "execution_count": 5,
   "id": "a9a94ee6",
   "metadata": {},
   "outputs": [],
   "source": [
    "\n",
    "df = df.\\\n",
    "    groupBy(\"trip_start_date\", \"start_station_name\").\\\n",
    "    agg(\n",
    "    round(avg(\"trip_duration_mins\"),2).alias(\"avg_trip_duration_mins\"),\n",
    "    count(\"ride_id\").alias(\"total_trips\")\n",
    "    )"
   ]
  },
  {
   "cell_type": "code",
   "execution_count": 6,
   "id": "80b51ac1",
   "metadata": {},
   "outputs": [
    {
     "data": {
      "application/vnd.jupyter.widget-view+json": {
       "model_id": "d0d53f7772c7424f8a61a04a40f00343",
       "version_major": 2,
       "version_minor": 0
      },
      "text/plain": [
       "HBox(children=(IntProgress(value=0, bar_style='success'), Label(value='')))"
      ]
     },
     "metadata": {},
     "output_type": "display_data"
    }
   ],
   "source": [
    "df.write.\\\n",
    "    mode(\"overwrite\").\\\n",
    "    option(\"overwriteSchema\", \"true\").\\\n",
    "    saveAsTable(f\"{catalog}.03_gold.daily_station_performance\")"
   ]
  }
 ],
 "metadata": {
  "kernelspec": {
   "display_name": ".venv_dbc",
   "language": "python",
   "name": "python3"
  },
  "language_info": {
   "codemirror_mode": {
    "name": "ipython",
    "version": 3
   },
   "file_extension": ".py",
   "mimetype": "text/x-python",
   "name": "python",
   "nbconvert_exporter": "python",
   "pygments_lexer": "ipython3",
   "version": "3.11.9"
  }
 },
 "nbformat": 4,
 "nbformat_minor": 5
}
